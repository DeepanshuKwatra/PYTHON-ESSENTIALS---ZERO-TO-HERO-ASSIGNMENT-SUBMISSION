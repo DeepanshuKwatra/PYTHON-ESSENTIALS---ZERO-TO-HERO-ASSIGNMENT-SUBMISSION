{
  "nbformat": 4,
  "nbformat_minor": 0,
  "metadata": {
    "colab": {
      "name": "DAY 4 FINAL PROJECT.ipynb",
      "provenance": [],
      "authorship_tag": "ABX9TyOWNcRyj9EqfUMfWFh+sjz9",
      "include_colab_link": true
    },
    "kernelspec": {
      "name": "python3",
      "display_name": "Python 3"
    },
    "language_info": {
      "name": "python"
    }
  },
  "cells": [
    {
      "cell_type": "markdown",
      "metadata": {
        "id": "view-in-github",
        "colab_type": "text"
      },
      "source": [
        "<a href=\"https://colab.research.google.com/github/DeepanshuKwatra/PYTHON-ESSENTIALS---ZERO-TO-HERO-ASSIGNMENT-SUBMISSION/blob/main/DAY_4_FINAL_PROJECT.ipynb\" target=\"_parent\"><img src=\"https://colab.research.google.com/assets/colab-badge.svg\" alt=\"Open In Colab\"/></a>"
      ]
    },
    {
      "cell_type": "code",
      "metadata": {
        "colab": {
          "base_uri": "https://localhost:8080/"
        },
        "id": "p_FZVxsHRsw8",
        "outputId": "c8e35904-67a9-40b3-ab3a-e24f55a66134"
      },
      "source": [
        "'''\n",
        "Hey you are a chemist from India and you work with degree celsius in your day to day life but due to a project your company had collaborated with a MNC company, where the chemists use degree frainite for their purposes, and to maintain collaboration consistent we want to have a easy degree conversion, \n",
        "\n",
        "Please develop a python based degree converter which takes °C value and give you output of °F\n",
        "Input - \n",
        "\n",
        "°C -> 50\n",
        "\n",
        "Output - \n",
        "\n",
        "°F -> 122 \n",
        "\n",
        "\n",
        "Formula for Conversion \n",
        "\n",
        "___°C × 9/5) + 32 = ___°F\n",
        "\n",
        "'''\n",
        "\n",
        "#TEMPERATURE CONVERTER PROJECT\n",
        "\n",
        "!pip install temperature-converter-py\n",
        "\n"
      ],
      "execution_count": null,
      "outputs": [
        {
          "output_type": "stream",
          "text": [
            "Collecting temperature-converter-py\n",
            "  Downloading temperature_converter_py-1.0.1-py3-none-any.whl (3.3 kB)\n",
            "Installing collected packages: temperature-converter-py\n",
            "Successfully installed temperature-converter-py-1.0.1\n"
          ],
          "name": "stdout"
        }
      ]
    },
    {
      "cell_type": "code",
      "metadata": {
        "colab": {
          "base_uri": "https://localhost:8080/"
        },
        "id": "Q2OHTIJXDxij",
        "outputId": "2c1ba22f-883c-43ad-db7d-268de1ebe0d3"
      },
      "source": [
        "#celsius to fahrenheit convertion\n",
        "celsius = float(input(\"enter temperature in celsius: \"))\n",
        "farenheit = (celsius * 9/5) + 32\n",
        "print('%.2f Celsius is: %0.2f Farenheit' %(celsius, farenheit))"
      ],
      "execution_count": null,
      "outputs": [
        {
          "output_type": "stream",
          "text": [
            "enter temperature in celsius: 50\n",
            "50.00 Celsius is: 122.00 Farenheit\n"
          ],
          "name": "stdout"
        }
      ]
    },
    {
      "cell_type": "code",
      "metadata": {
        "id": "Hz9dIhSVX18f"
      },
      "source": [
        ""
      ],
      "execution_count": null,
      "outputs": []
    }
  ]
}