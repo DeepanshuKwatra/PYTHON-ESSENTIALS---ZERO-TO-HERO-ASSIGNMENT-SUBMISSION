{
  "nbformat": 4,
  "nbformat_minor": 0,
  "metadata": {
    "colab": {
      "name": "DAY 1  ASSIGNMENT 1 .ipynb",
      "provenance": [],
      "authorship_tag": "ABX9TyPzLAVZRiNL4SLfQYRU1PBh",
      "include_colab_link": true
    },
    "kernelspec": {
      "name": "python3",
      "display_name": "Python 3"
    },
    "language_info": {
      "name": "python"
    }
  },
  "cells": [
    {
      "cell_type": "markdown",
      "metadata": {
        "id": "view-in-github",
        "colab_type": "text"
      },
      "source": [
        "<a href=\"https://colab.research.google.com/github/DeepanshuKwatra/PYTHON-ESSENTIALS---ZERO-TO-HERO-ASSIGNMENT-SUBMISSION/blob/main/DAY_1_ASSIGNMENT_1_.ipynb\" target=\"_parent\"><img src=\"https://colab.research.google.com/assets/colab-badge.svg\" alt=\"Open In Colab\"/></a>"
      ]
    },
    {
      "cell_type": "code",
      "metadata": {
        "id": "1mwD1kTEvoYn"
      },
      "source": [
        "li = [12, 8, 3, 19, 9, 14]\n",
        "li.sort()"
      ],
      "execution_count": null,
      "outputs": []
    },
    {
      "cell_type": "code",
      "metadata": {
        "colab": {
          "base_uri": "https://localhost:8080/"
        },
        "id": "Qe9fvbDZxz8T",
        "outputId": "0630e8cd-2557-4f2a-c4fe-7ee3bf236f58"
      },
      "source": [
        "print(li)"
      ],
      "execution_count": null,
      "outputs": [
        {
          "output_type": "stream",
          "text": [
            "[3, 8, 9, 12, 14, 19]\n"
          ],
          "name": "stdout"
        }
      ]
    },
    {
      "cell_type": "code",
      "metadata": {
        "colab": {
          "base_uri": "https://localhost:8080/"
        },
        "id": "FHBRMs9Nx7Cs",
        "outputId": "a395129b-b838-474c-b17b-7d537498ef45"
      },
      "source": [
        "li.reverse()\n",
        "print(li)"
      ],
      "execution_count": null,
      "outputs": [
        {
          "output_type": "stream",
          "text": [
            "[3, 8, 9, 12, 14, 19]\n"
          ],
          "name": "stdout"
        }
      ]
    },
    {
      "cell_type": "code",
      "metadata": {
        "colab": {
          "base_uri": "https://localhost:8080/"
        },
        "id": "TFGODwFFypzN",
        "outputId": "73313738-d832-4580-ddc5-4c33d4981ba7"
      },
      "source": [
        "li.reverse()\n",
        "print(li)"
      ],
      "execution_count": null,
      "outputs": [
        {
          "output_type": "stream",
          "text": [
            "[19, 14, 12, 9, 8, 3]\n"
          ],
          "name": "stdout"
        }
      ]
    }
  ]
}