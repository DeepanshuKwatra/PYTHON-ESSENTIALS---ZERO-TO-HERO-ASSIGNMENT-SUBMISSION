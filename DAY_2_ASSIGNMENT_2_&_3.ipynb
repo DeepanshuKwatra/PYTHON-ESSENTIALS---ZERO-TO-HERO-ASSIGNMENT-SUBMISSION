{
  "nbformat": 4,
  "nbformat_minor": 0,
  "metadata": {
    "colab": {
      "name": "DAY 2   ASSIGNMENT 2 & 3.ipynb",
      "provenance": [],
      "authorship_tag": "ABX9TyOk4T8DV8rbXuaFTCloTb8W",
      "include_colab_link": true
    },
    "kernelspec": {
      "name": "python3",
      "display_name": "Python 3"
    },
    "language_info": {
      "name": "python"
    }
  },
  "cells": [
    {
      "cell_type": "markdown",
      "metadata": {
        "id": "view-in-github",
        "colab_type": "text"
      },
      "source": [
        "<a href=\"https://colab.research.google.com/github/DeepanshuKwatra/PYTHON-ESSENTIALS---ZERO-TO-HERO-ASSIGNMENT-SUBMISSION/blob/main/DAY_2_ASSIGNMENT_2_%26_3.ipynb\" target=\"_parent\"><img src=\"https://colab.research.google.com/assets/colab-badge.svg\" alt=\"Open In Colab\"/></a>"
      ]
    },
    {
      "cell_type": "code",
      "metadata": {
        "colab": {
          "base_uri": "https://localhost:8080/"
        },
        "id": "fd-a4We-aZAP",
        "outputId": "90b75be5-d992-4340-a093-e53bf6789d6b"
      },
      "source": [
        "#ASSIGNMENT 2\n",
        "#Delete all occurrences of an element in a list\n",
        "\n",
        "def remove_values_from_list(the_list, val):\n",
        "   return [value for value in the_list if value != val]\n",
        "\n",
        "x = [1, 8, 3, 4, 8, 8, 9]\n",
        "x = remove_values_from_list(x, 8)\n",
        "print(x)"
      ],
      "execution_count": null,
      "outputs": [
        {
          "output_type": "stream",
          "text": [
            "[1, 3, 4, 9]\n"
          ],
          "name": "stdout"
        }
      ]
    },
    {
      "cell_type": "code",
      "metadata": {
        "colab": {
          "base_uri": "https://localhost:8080/"
        },
        "id": "ZG-G1TtCjyK2",
        "outputId": "36ceca9b-7f14-47fd-bdae-4e94f2c14c2c"
      },
      "source": [
        "#ASSIGNMENT 3\n",
        "#Check whether a string is a pangram.\n",
        "\n",
        "import string\n",
        "def ispangram(str):\n",
        "   alphabet = \"abcdefghijklmnopqrstuvwxyz\"\n",
        "   for char in alphabet:\n",
        "      if char not in str.lower():\n",
        "         return False\n",
        "   return True\n",
        "\n",
        "string = 'The quick brown fox jumps over the lazy dog.'\n",
        "if(ispangram(string) == True):\n",
        "   print(\"Yes\")\n",
        "else:\n",
        "   print(\"No\")"
      ],
      "execution_count": null,
      "outputs": [
        {
          "output_type": "stream",
          "text": [
            "Yes\n"
          ],
          "name": "stdout"
        }
      ]
    }
  ]
}